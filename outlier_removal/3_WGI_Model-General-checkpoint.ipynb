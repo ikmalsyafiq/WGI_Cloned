{
 "cells": [
  {
   "cell_type": "code",
   "execution_count": 1,
   "metadata": {},
   "outputs": [],
   "source": [
    "import pandas as pd\n",
    "import numpy as np\n",
    "import os\n",
    "import glob\n",
    "import seaborn as sns\n",
    "import matplotlib.pyplot as plt\n",
    "import gc\n",
    "import math\n",
    "import shap\n",
    "from scipy import stats\n",
    "from sklearn.preprocessing import StandardScaler\n",
    "from sklearn.preprocessing import MinMaxScaler\n",
    "from IPython.core.interactiveshell import InteractiveShell\n",
    "InteractiveShell.ast_node_interactivity = \"all\"\n",
    "pd.set_option('display.max_columns', None)"
   ]
  },
  {
   "cell_type": "markdown",
   "metadata": {},
   "source": [
    "### Read Data"
   ]
  },
  {
   "cell_type": "code",
   "execution_count": 2,
   "metadata": {},
   "outputs": [],
   "source": [
    "#Ikmal\n",
    "ori_db = pd.read_csv('Cleaned_Data\\WGIDB_SungaiLangat2.csv')\n",
    "ori_db['Date'] = pd.to_datetime(ori_db['Date'])\n",
    "wtpc = pd.read_csv('..\\Design Capacity WTP.csv')\n",
    "master_db = pd.merge(ori_db,wtpc[['wtp','Water Source','Lembangan']],on='wtp',how='left')\n",
    "master_db['Date'] = pd.to_datetime(master_db['Date'])"
   ]
  },
  {
   "cell_type": "markdown",
   "metadata": {},
   "source": [
    "### General Data Cleaning"
   ]
  },
  {
   "cell_type": "code",
   "execution_count": 3,
   "metadata": {},
   "outputs": [],
   "source": [
    "## Define Outliers Removal Function\n",
    "def is_outlier(s):\n",
    "    lower_limit = s.mean() - (s.std() * 1.5)\n",
    "    upper_limit = s.mean() + (s.std() * 1.5)\n",
    "    return ~s.between(lower_limit, upper_limit)"
   ]
  },
  {
   "cell_type": "code",
   "execution_count": 4,
   "metadata": {},
   "outputs": [],
   "source": [
    "## Rate of change variables (\"..._chpctm\") vs agaisnt median value of respective WTP\n",
    "tv = ['Disinfectant_chpctm','pH Adjuster_chpctm','Coagulant_chpctm']\n",
    "idv = ['pH_avg_chpctm', 'Turbidity_avg_chpctm','Color_avg_chpctm', 'Iron_avg_chpctm', 'Ammonia_avg_chpctm', 'Manganese_avg_chpctm']\n",
    "master_db[idv] = master_db[idv].fillna(0)\n",
    "to_c5 = master_db.copy()\n",
    "to_c5 = to_c5[tv+idv+['Lembangan','wtp','Date']].copy()\n",
    "to_c5 = to_c5[~to_c5.isin([np.inf, -np.inf]).any(1)].copy()\n",
    "to_c5 = to_c5.dropna()\n",
    "ge2 = tv + idv"
   ]
  },
  {
   "attachments": {},
   "cell_type": "markdown",
   "metadata": {},
   "source": [
    "## Generating Outlier Removal "
   ]
  },
  {
   "cell_type": "code",
   "execution_count": 5,
   "metadata": {},
   "outputs": [],
   "source": [
    "#Ikmal\n",
    "## Rate of change variables (\"..._chpctm\") vs agaisnt median value of respective WTP\n",
    "tv = ['Disinfectant_chpctm','pH Adjuster_chpctm','Coagulant_chpctm']\n",
    "idv = ['pH_avg_chpctm', 'Turbidity_avg_chpctm','Color_avg_chpctm', 'Iron_avg_chpctm', 'Ammonia_avg_chpctm', 'Manganese_avg_chpctm']\n",
    "master_db[idv] = master_db[idv].fillna(0)\n",
    "to_c5 = master_db.copy()\n",
    "to_c5 = to_c5[tv+idv+['Lembangan','wtp','Date']].copy()\n",
    "to_c5 = to_c5[~to_c5.isin([np.inf, -np.inf]).any(1)].copy()\n",
    "#to_c5 = to_c5.dropna()\n",
    "ge2 = tv + idv\n",
    "ge2 = idv"
   ]
  },
  {
   "cell_type": "code",
   "execution_count": 6,
   "metadata": {},
   "outputs": [
    {
     "name": "stderr",
     "output_type": "stream",
     "text": [
      "The frame.append method is deprecated and will be removed from pandas in a future version. Use pandas.concat instead.\n"
     ]
    }
   ],
   "source": [
    "opp = pd.DataFrame()\n",
    "for i in ge2:\n",
    "    \n",
    "    if i==ge2[0]:\n",
    "        m0 = to_c5[~to_c5.groupby(['Lembangan','wtp'])[i].apply(is_outlier)][['Lembangan','wtp',i,'Date']]\n",
    "        opp = opp.append(m0)\n",
    "    else:\n",
    "        m1 = to_c5[~to_c5.groupby(['Lembangan','wtp'])[i].apply(is_outlier)][['Lembangan','wtp',i,'Date']]\n",
    "        opp = pd.merge(opp,m1,on=['Lembangan','wtp','Date'],how='left')"
   ]
  },
  {
   "cell_type": "code",
   "execution_count": 7,
   "metadata": {},
   "outputs": [
    {
     "data": {
      "text/plain": [
       "(273, 9)"
      ]
     },
     "execution_count": 7,
     "metadata": {},
     "output_type": "execute_result"
    }
   ],
   "source": [
    "opp = opp.dropna()\n",
    "opp.shape"
   ]
  },
  {
   "cell_type": "code",
   "execution_count": 8,
   "metadata": {},
   "outputs": [],
   "source": [
    "pd_select = pd.merge(opp[['wtp','Date']],ori_db, on = ['wtp','Date'], how = 'left').drop('Unnamed: 0',axis = 1)[['wtp', 'Date','pH_avg', 'Turbidity_avg',\n",
    "       'Color_avg', 'Iron_avg', 'Ammonia_avg', 'Manganese_avg']].rename(columns={'Ammonia_avg': 'Ammonia (NH4)_avg', 'Iron_avg': 'Ferum/Iron (Fe)_avg', 'Manganese_avg':'Manganese (Mn)_avg' })\n"
   ]
  },
  {
   "cell_type": "code",
   "execution_count": 9,
   "metadata": {},
   "outputs": [
    {
     "name": "stdout",
     "output_type": "stream",
     "text": [
      "           wtp       Date RawWaterTotalViolation  wqc_raw_total_avg\n",
      "0     Langat 2 2022-01-10                     pH               7.24\n",
      "1     Langat 2 2022-01-11                     pH               7.07\n",
      "2     Langat 2 2022-01-02                     pH               7.19\n",
      "3     Langat 2 2022-01-03                     pH               7.11\n",
      "4     Langat 2 2022-01-05                     pH               7.18\n",
      "...        ...        ...                    ...                ...\n",
      "1633  Langat 2 2022-09-05         Manganese (Mn)               0.25\n",
      "1634  Langat 2 2022-09-06         Manganese (Mn)               0.29\n",
      "1635  Langat 2 2022-09-07         Manganese (Mn)               0.15\n",
      "1636  Langat 2 2022-09-08         Manganese (Mn)               0.23\n",
      "1637  Langat 2 2022-09-09         Manganese (Mn)               0.30\n",
      "\n",
      "[1638 rows x 4 columns]\n"
     ]
    }
   ],
   "source": [
    "#pd_select = pd_select.reset_index(inplace=True)\n",
    "# pivot the DataFrame\n",
    "\n",
    "melted = pd_select.melt(id_vars=['wtp', 'Date'], \n",
    "                 value_vars=['pH_avg', 'Turbidity_avg', 'Color_avg',  'Ferum/Iron (Fe)_avg', 'Ammonia (NH4)_avg', 'Manganese (Mn)_avg'],\n",
    "                 var_name='RawWaterTotalViolation',\n",
    "                 value_name='wqc_raw_total_avg')\n",
    "melted['RawWaterTotalViolation'] = melted['RawWaterTotalViolation'].str.replace('_avg', '')\n",
    "\n",
    "print(melted)"
   ]
  },
  {
   "cell_type": "code",
   "execution_count": 10,
   "metadata": {},
   "outputs": [
    {
     "name": "stderr",
     "output_type": "stream",
     "text": [
      "Parsing '13/10/2022' in DD/MM/YYYY format. Provide format or specify infer_datetime_format=True for consistent parsing.\n",
      "Parsing '14/10/2022' in DD/MM/YYYY format. Provide format or specify infer_datetime_format=True for consistent parsing.\n",
      "Parsing '15/10/2022' in DD/MM/YYYY format. Provide format or specify infer_datetime_format=True for consistent parsing.\n",
      "Parsing '16/10/2022' in DD/MM/YYYY format. Provide format or specify infer_datetime_format=True for consistent parsing.\n",
      "Parsing '17/10/2022' in DD/MM/YYYY format. Provide format or specify infer_datetime_format=True for consistent parsing.\n",
      "Parsing '18/10/2022' in DD/MM/YYYY format. Provide format or specify infer_datetime_format=True for consistent parsing.\n",
      "Parsing '19/10/2022' in DD/MM/YYYY format. Provide format or specify infer_datetime_format=True for consistent parsing.\n",
      "Parsing '20/10/2022' in DD/MM/YYYY format. Provide format or specify infer_datetime_format=True for consistent parsing.\n",
      "Parsing '21/10/2022' in DD/MM/YYYY format. Provide format or specify infer_datetime_format=True for consistent parsing.\n",
      "Parsing '22/10/2022' in DD/MM/YYYY format. Provide format or specify infer_datetime_format=True for consistent parsing.\n",
      "Parsing '23/10/2022' in DD/MM/YYYY format. Provide format or specify infer_datetime_format=True for consistent parsing.\n",
      "Parsing '24/10/2022' in DD/MM/YYYY format. Provide format or specify infer_datetime_format=True for consistent parsing.\n",
      "Parsing '25/10/2022' in DD/MM/YYYY format. Provide format or specify infer_datetime_format=True for consistent parsing.\n",
      "Parsing '26/10/2022' in DD/MM/YYYY format. Provide format or specify infer_datetime_format=True for consistent parsing.\n",
      "Parsing '27/10/2022' in DD/MM/YYYY format. Provide format or specify infer_datetime_format=True for consistent parsing.\n",
      "Parsing '28/10/2022' in DD/MM/YYYY format. Provide format or specify infer_datetime_format=True for consistent parsing.\n",
      "Parsing '29/10/2022' in DD/MM/YYYY format. Provide format or specify infer_datetime_format=True for consistent parsing.\n",
      "Parsing '30/10/2022' in DD/MM/YYYY format. Provide format or specify infer_datetime_format=True for consistent parsing.\n",
      "Parsing '31/10/2022' in DD/MM/YYYY format. Provide format or specify infer_datetime_format=True for consistent parsing.\n",
      "Parsing '13/11/2022' in DD/MM/YYYY format. Provide format or specify infer_datetime_format=True for consistent parsing.\n",
      "Parsing '14/11/2022' in DD/MM/YYYY format. Provide format or specify infer_datetime_format=True for consistent parsing.\n",
      "Parsing '15/11/2022' in DD/MM/YYYY format. Provide format or specify infer_datetime_format=True for consistent parsing.\n",
      "Parsing '16/11/2022' in DD/MM/YYYY format. Provide format or specify infer_datetime_format=True for consistent parsing.\n",
      "Parsing '17/11/2022' in DD/MM/YYYY format. Provide format or specify infer_datetime_format=True for consistent parsing.\n",
      "Parsing '18/11/2022' in DD/MM/YYYY format. Provide format or specify infer_datetime_format=True for consistent parsing.\n",
      "Parsing '19/11/2022' in DD/MM/YYYY format. Provide format or specify infer_datetime_format=True for consistent parsing.\n",
      "Parsing '20/11/2022' in DD/MM/YYYY format. Provide format or specify infer_datetime_format=True for consistent parsing.\n",
      "Parsing '21/11/2022' in DD/MM/YYYY format. Provide format or specify infer_datetime_format=True for consistent parsing.\n",
      "Parsing '22/11/2022' in DD/MM/YYYY format. Provide format or specify infer_datetime_format=True for consistent parsing.\n",
      "Parsing '23/11/2022' in DD/MM/YYYY format. Provide format or specify infer_datetime_format=True for consistent parsing.\n",
      "Parsing '24/11/2022' in DD/MM/YYYY format. Provide format or specify infer_datetime_format=True for consistent parsing.\n",
      "Parsing '25/11/2022' in DD/MM/YYYY format. Provide format or specify infer_datetime_format=True for consistent parsing.\n",
      "Parsing '26/11/2022' in DD/MM/YYYY format. Provide format or specify infer_datetime_format=True for consistent parsing.\n",
      "Parsing '27/11/2022' in DD/MM/YYYY format. Provide format or specify infer_datetime_format=True for consistent parsing.\n",
      "Parsing '28/11/2022' in DD/MM/YYYY format. Provide format or specify infer_datetime_format=True for consistent parsing.\n",
      "Parsing '29/11/2022' in DD/MM/YYYY format. Provide format or specify infer_datetime_format=True for consistent parsing.\n",
      "Parsing '30/11/2022' in DD/MM/YYYY format. Provide format or specify infer_datetime_format=True for consistent parsing.\n",
      "Parsing '13/12/2022' in DD/MM/YYYY format. Provide format or specify infer_datetime_format=True for consistent parsing.\n",
      "Parsing '14/12/2022' in DD/MM/YYYY format. Provide format or specify infer_datetime_format=True for consistent parsing.\n",
      "Parsing '15/12/2022' in DD/MM/YYYY format. Provide format or specify infer_datetime_format=True for consistent parsing.\n",
      "Parsing '16/12/2022' in DD/MM/YYYY format. Provide format or specify infer_datetime_format=True for consistent parsing.\n",
      "Parsing '17/12/2022' in DD/MM/YYYY format. Provide format or specify infer_datetime_format=True for consistent parsing.\n",
      "Parsing '18/12/2022' in DD/MM/YYYY format. Provide format or specify infer_datetime_format=True for consistent parsing.\n",
      "Parsing '19/12/2022' in DD/MM/YYYY format. Provide format or specify infer_datetime_format=True for consistent parsing.\n",
      "Parsing '20/12/2022' in DD/MM/YYYY format. Provide format or specify infer_datetime_format=True for consistent parsing.\n",
      "Parsing '21/12/2022' in DD/MM/YYYY format. Provide format or specify infer_datetime_format=True for consistent parsing.\n",
      "Parsing '22/12/2022' in DD/MM/YYYY format. Provide format or specify infer_datetime_format=True for consistent parsing.\n",
      "Parsing '23/12/2022' in DD/MM/YYYY format. Provide format or specify infer_datetime_format=True for consistent parsing.\n",
      "Parsing '24/12/2022' in DD/MM/YYYY format. Provide format or specify infer_datetime_format=True for consistent parsing.\n",
      "Parsing '25/12/2022' in DD/MM/YYYY format. Provide format or specify infer_datetime_format=True for consistent parsing.\n",
      "Parsing '26/12/2022' in DD/MM/YYYY format. Provide format or specify infer_datetime_format=True for consistent parsing.\n",
      "Parsing '27/12/2022' in DD/MM/YYYY format. Provide format or specify infer_datetime_format=True for consistent parsing.\n",
      "Parsing '28/12/2022' in DD/MM/YYYY format. Provide format or specify infer_datetime_format=True for consistent parsing.\n",
      "Parsing '29/12/2022' in DD/MM/YYYY format. Provide format or specify infer_datetime_format=True for consistent parsing.\n",
      "Parsing '30/12/2022' in DD/MM/YYYY format. Provide format or specify infer_datetime_format=True for consistent parsing.\n",
      "Parsing '31/12/2022' in DD/MM/YYYY format. Provide format or specify infer_datetime_format=True for consistent parsing.\n"
     ]
    }
   ],
   "source": [
    "pd_min_max_ori_data = pd.read_csv('Raw_File/2022 Raw Water Parameter Langat 2.csv')\n",
    "melted = melted.rename(columns={'Date':'TestDate','wtp':'WTP'})\n",
    "pd_min_max_ori_data['TestDate'] = pd.to_datetime(pd_min_max_ori_data['TestDate'])\n",
    "pd_output_outlier_removed = pd.merge(melted[['WTP','TestDate','RawWaterTotalViolation']],pd_min_max_ori_data, on =['WTP','TestDate','RawWaterTotalViolation'], how = 'left')"
   ]
  },
  {
   "cell_type": "code",
   "execution_count": 11,
   "metadata": {},
   "outputs": [],
   "source": [
    "pd_output_outlier_removed.to_csv('Outlier_Removed\\Outlier Removed 2022 Raw Water Parameter Langat 2.csv',index=False)"
   ]
  }
 ],
 "metadata": {
  "kernelspec": {
   "display_name": "base",
   "language": "python",
   "name": "python3"
  },
  "language_info": {
   "codemirror_mode": {
    "name": "ipython",
    "version": 3
   },
   "file_extension": ".py",
   "mimetype": "text/x-python",
   "name": "python",
   "nbconvert_exporter": "python",
   "pygments_lexer": "ipython3",
   "version": "3.9.13 (main, Aug 25 2022, 23:51:50) [MSC v.1916 64 bit (AMD64)]"
  },
  "vscode": {
   "interpreter": {
    "hash": "0c4439b51d35f9272108bf59add1fd162c01386f5fe08b715fb4f15958d0f74e"
   }
  }
 },
 "nbformat": 4,
 "nbformat_minor": 4
}
