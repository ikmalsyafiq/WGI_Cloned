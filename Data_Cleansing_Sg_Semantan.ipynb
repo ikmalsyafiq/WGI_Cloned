{
 "cells": [
  {
   "cell_type": "code",
   "execution_count": 7,
   "metadata": {},
   "outputs": [],
   "source": [
    "import pandas as pd\n",
    "import numpy as np\n",
    "import os\n",
    "import glob\n",
    "pd.set_option('display.max_columns', None)\n",
    "import matplotlib.pyplot as plt\n",
    "import gc\n",
    "import math\n",
    "from IPython.core.interactiveshell import InteractiveShell\n",
    "InteractiveShell.ast_node_interactivity = \"all\""
   ]
  },
  {
   "cell_type": "markdown",
   "metadata": {},
   "source": [
    "## Capacity Grouping"
   ]
  },
  {
   "cell_type": "code",
   "execution_count": 8,
   "metadata": {},
   "outputs": [],
   "source": [
    "## Get Info about the WTP Capacity and water source\n",
    "wtpc = pd.read_csv('Design Capacity WTP.csv')\n",
    "wlb = ['small','medium','large']\n",
    "breaks = [0,20,200,np.inf]\n",
    "wtpc['ng'] = pd.cut(x=wtpc['Design Capacity (MLD)'], bins=breaks,labels=wlb)\n",
    "wtpc['nng'] = pd.cut(x=wtpc['Design Capacity (MLD)'], bins=breaks)"
   ]
  },
  {
   "cell_type": "markdown",
   "metadata": {},
   "source": [
    "## General Data Loading & Cleaning"
   ]
  },
  {
   "cell_type": "markdown",
   "metadata": {},
   "source": [
    "### Water Quality (WQ) Related Data "
   ]
  },
  {
   "cell_type": "code",
   "execution_count": 28,
   "metadata": {},
   "outputs": [],
   "source": [
    "path = r'WQ\\Refined'\n",
    "db_dir = glob.glob(path + \"/*.csv\")\n",
    "\n",
    "li = []\n",
    "\n",
    "## Joining all csv file within the folder\n",
    "for i in db_dir:\n",
    "    df = pd.read_csv(i, index_col=None, header=0)\n",
    "    li.append(df)\n",
    "fdb = pd.concat(li, ignore_index=True)"
   ]
  },
  {
   "cell_type": "code",
   "execution_count": 29,
   "metadata": {},
   "outputs": [],
   "source": [
    "## Drop unwanted column and fill na with big number 9999, then it will be removed when there is a change in data\n",
    "fdb = fdb.drop(['Unnamed: 0'],axis=1)\n",
    "fdb['Date'] = pd.to_datetime(fdb['Date'])\n",
    "cl = fdb.loc[:, fdb.dtypes == object].columns.to_list()\n",
    "cl.remove('wtp')\n",
    "for i in cl:\n",
    "    fdb[i] = fdb[i].fillna(9999)\n",
    "    fdb[i] = fdb[i].apply(lambda x: str(x).replace(',',''))\n",
    "fdb[cl] = fdb[cl].apply(pd.to_numeric)\n",
    "db = fdb.copy()"
   ]
  },
  {
   "cell_type": "code",
   "execution_count": 30,
   "metadata": {},
   "outputs": [],
   "source": [
    "## Get all the relevant columns (Daily average for further processing)\n",
    "avg = fdb.columns\n",
    "l = ['Quarter','wtp','Month','Date']\n",
    "avg = [x for x in avg if \"avg\" in x ] + l\n",
    "db['Month'] = db['Date'].dt.month\n",
    "db['Quarter'] = db['Date'].dt.quarter\n",
    "dc = db[avg].copy()\n",
    "\n",
    "## Drop due to data limitation (Only limited number of WTP do it on daily basis)\n",
    "dc= dc.drop(['Aluminium_avg', 'Fluoride_avg'],axis=1)\n",
    "avc = [x for x in dc.columns if \"avg\" in x ]"
   ]
  },
  {
   "cell_type": "code",
   "execution_count": 34,
   "metadata": {},
   "outputs": [],
   "source": [
    "## Final Clean data for further processing\n",
    "dc = pd.merge(dc,wtpc[['wtp','Water Source','Lembangan']],on='wtp',how='left')\n",
    "dc = dc[(dc['Lembangan'].isin(['Sg Semantan'])) & (dc['Water Source']=='River')].copy()\n",
    "dc = dc[dc['pH_avg']<14].copy()"
   ]
  },
  {
   "cell_type": "markdown",
   "metadata": {},
   "source": [
    "## Chemical Dosage"
   ]
  },
  {
   "cell_type": "markdown",
   "metadata": {},
   "source": [
    "### General Chemical DB (Other WTP)"
   ]
  },
  {
   "cell_type": "code",
   "execution_count": 40,
   "metadata": {},
   "outputs": [],
   "source": [
    "path = r'CC\\Chm_DB'\n",
    "dcb_dir = glob.glob(path + \"/*.csv\")\n",
    "\n",
    "mm = []\n",
    "\n",
    "for i in dcb_dir:\n",
    "    dbo = pd.read_csv(i, index_col=None, header=0)\n",
    "    mm.append(dbo)"
   ]
  },
  {
   "cell_type": "code",
   "execution_count": 41,
   "metadata": {},
   "outputs": [],
   "source": [
    "chdb = pd.concat(mm, ignore_index=True)\n",
    "chdb = chdb.drop(['Unnamed: 0'],axis=1)\n",
    "chdb = chdb[chdb['Date']!='MONTHLY'].reset_index(drop=True)\n",
    "chdb['Date'] = chdb['Date'] + '-2021'\n",
    "chdb['Date'] = pd.to_datetime(chdb['Date'])\n",
    "chdb['Month'] = chdb['Date'].dt.month\n",
    "chdb['Quarter'] = chdb['Date'].dt.quarter"
   ]
  },
  {
   "cell_type": "code",
   "execution_count": 42,
   "metadata": {},
   "outputs": [],
   "source": [
    "FC = chdb.columns\n",
    "fFC = [x for x in FC if \"avg\" in x]\n",
    "rcol = ['wtp','Date','Month','Quarter']\n",
    "xxdb = chdb[fFC+rcol].copy()"
   ]
  },
  {
   "cell_type": "code",
   "execution_count": 43,
   "metadata": {},
   "outputs": [],
   "source": [
    "new = [x for x in FC if \"avg\" in x]\n",
    "new = [x.replace(\" _avg\",\"\") for x in new]\n",
    "new = [x.replace(\"_avg\",\"\") for x in new]"
   ]
  },
  {
   "cell_type": "markdown",
   "metadata": {},
   "source": [
    "### Regrouping Chemical Product to it's own purposes"
   ]
  },
  {
   "cell_type": "code",
   "execution_count": 44,
   "metadata": {},
   "outputs": [],
   "source": [
    "xdic = dict(zip(fFC,new))\n",
    "xxdb = xxdb.rename(columns=xdic)\n",
    "xxdb = pd.merge(xxdb,wtpc[['wtp','Water Source','Lembangan']],on='wtp',how='left')\n",
    "x1db = xxdb[(xxdb['Lembangan']=='Sg Semantan') & (xxdb['Water Source']=='River')].copy()\n",
    "avc2 = x1db.drop(['wtp', 'Date', 'Month','Quarter', 'Water Source', 'Lembangan'],axis=1).columns"
   ]
  },
  {
   "cell_type": "code",
   "execution_count": 50,
   "metadata": {},
   "outputs": [],
   "source": [
    "appl = x1db.groupby(['wtp']).mean().reset_index()\n",
    "wtpn = appl.wtp.unique()\n",
    "number = dict({'wtp':[],'Chem':[]})\n",
    "for i in wtpn:\n",
    "    number['wtp'].append(i)\n",
    "    jde = appl[appl['wtp']==i].drop(['wtp'],axis=1)\n",
    "    jde = jde.dropna(axis=1).columns\n",
    "    number['Chem'].append(jde)\n",
    "cgr = pd.read_csv(\"C.Grouping.csv\")\n",
    "Chdict = dict(zip(cgr['Chemical Name'].values,cgr['Correct Grouping']))\n",
    "df22=pd.DataFrame(number)\n",
    "df22=df22.assign(Chem=df22.Chem.map(','.join))\n",
    "df22=df22.set_index(['wtp']).apply(lambda x: x.str.split(',').explode()).reset_index()\n",
    "df22['Purpose']=df22['Chem'].apply(lambda x: Chdict.get(x))"
   ]
  },
  {
   "cell_type": "code",
   "execution_count": 52,
   "metadata": {},
   "outputs": [],
   "source": [
    "lis = df22['Chem'].unique()\n",
    "pre_lis = [x for x in lis if \"Pre\" in x]\n",
    "pos_lis = [x for x in lis if \"Post\" in x]\n",
    "int_lis = [x for x in lis if \"Intermediate\" in x]\n",
    "total_lis = pre_lis + pos_lis + int_lis"
   ]
  },
  {
   "cell_type": "code",
   "execution_count": 54,
   "metadata": {},
   "outputs": [],
   "source": [
    "hl = ['Hydrated Lime (Powder) (Pre)','Hydrated Lime (Powder) (Post)']"
   ]
  },
  {
   "cell_type": "code",
   "execution_count": 55,
   "metadata": {},
   "outputs": [],
   "source": [
    "x1db[total_lis] = x1db[total_lis].fillna(0)\n",
    "x1db['Hydrated_Lime_T_Pow'] = x1db[hl[0]]+x1db[hl[1]]\n",
    "li = [dict(zip(hl,['Hydrated_Lime_T_Pow' for i in range(len(hl))]))]"
   ]
  },
  {
   "cell_type": "code",
   "execution_count": 56,
   "metadata": {},
   "outputs": [],
   "source": [
    "d = {}\n",
    "for dictionary in li:\n",
    "    for k, v in dictionary.items():\n",
    "        d[k] = v"
   ]
  },
  {
   "cell_type": "code",
   "execution_count": 57,
   "metadata": {},
   "outputs": [],
   "source": [
    "df22['Chem'] = df22['Chem'].apply(lambda x: d.get(x,x))\n",
    "df22 = df22.drop_duplicates(subset=['wtp','Chem'])\n",
    "df22 = df22.drop_duplicates(subset=['wtp','Purpose'],keep='first')\n",
    "tt = x1db['wtp'].unique()\n",
    "trdf = df22.copy()\n",
    "Chdict['Hydrated_Lime_T_Pow'] = 'pH Adjuster'\n",
    "jam = pd.DataFrame()"
   ]
  },
  {
   "cell_type": "code",
   "execution_count": 59,
   "metadata": {},
   "outputs": [],
   "source": [
    "x10db = x1db.copy()"
   ]
  },
  {
   "cell_type": "code",
   "execution_count": 60,
   "metadata": {},
   "outputs": [
    {
     "data": {
      "text/plain": [
       "674"
      ]
     },
     "execution_count": 60,
     "metadata": {},
     "output_type": "execute_result"
    }
   ],
   "source": [
    "onew = 0\n",
    "for i in tt:\n",
    "    \n",
    "    c2t = trdf[trdf['wtp']==i]['Chem'].unique()\n",
    "    c2t = np.append(c2t,np.array(['Date','wtp']))\n",
    "    op = x10db[x10db['wtp']==i][c2t].copy()\n",
    "    op = op.rename(columns=Chdict)\n",
    "    \n",
    "    if onew == 0:\n",
    "        jam = jam.append(op)\n",
    "    else:\n",
    "        jam = pd.concat([jam, op], ignore_index=False)\n",
    "    \n",
    "    onew = onew+1\n",
    "    \n",
    "    del c2t, op\n",
    "    gc.collect()"
   ]
  },
  {
   "cell_type": "markdown",
   "metadata": {},
   "source": [
    "### Final Merge Data"
   ]
  },
  {
   "cell_type": "code",
   "execution_count": 61,
   "metadata": {},
   "outputs": [],
   "source": [
    "wqdb1 = dc[['wtp', 'pH_avg', 'Date', 'Turbidity_avg', 'Color_avg',\n",
    "       'Iron_avg', 'Ammonia_avg', 'Manganese_avg']].copy()\n",
    "FFDB = pd.merge(wqdb1.copy(),jam.copy(),on=['wtp','Date'],how='left')\n",
    "\n",
    "## Dropping Polyelectrolyte & Auxiliary Chemical because project does not focus study on these product (Low usage & only certain WTP using it)\n",
    "the_name = FFDB.drop(['wtp', 'Date','Month','Polyelectrolyte','Auxiliary Chemical'],axis=1).columns"
   ]
  },
  {
   "cell_type": "code",
   "execution_count": 65,
   "metadata": {},
   "outputs": [],
   "source": [
    "## Feature Engineering (Daily % Changes compared to median value)\n",
    "for i in the_name:\n",
    "    means = FFDB.groupby('wtp')[f'{i}'].transform('median')\n",
    "    FFDB[f'{i}_chpctm'] = (FFDB[f'{i}'] - means)/means*100"
   ]
  },
  {
   "cell_type": "code",
   "execution_count": 66,
   "metadata": {},
   "outputs": [],
   "source": [
    "tfi = [x for x in FFDB.columns if \"_chpctm\" in x]\n",
    "to_c4 = FFDB[tfi].copy()"
   ]
  },
  {
   "cell_type": "code",
   "execution_count": 67,
   "metadata": {},
   "outputs": [],
   "source": [
    "## General Columns for EDA\n",
    "ge = ['pH_avg','Turbidity_avg', 'Color_avg','Iron_avg', 'Ammonia_avg', 'Manganese_avg','Disinfectant','Coagulant', 'Flouridation','pH Adjuster']\n",
    "lib = list(to_c4.columns) + ['Date','wtp'] + ge\n",
    "to_c6 = FFDB[lib].copy()"
   ]
  },
  {
   "cell_type": "code",
   "execution_count": 71,
   "metadata": {},
   "outputs": [],
   "source": [
    "to_c6.to_csv('C_data/WGIDB_SgSEM.csv')"
   ]
  }
 ],
 "metadata": {
  "kernelspec": {
   "display_name": "base",
   "language": "python",
   "name": "python3"
  },
  "language_info": {
   "codemirror_mode": {
    "name": "ipython",
    "version": 3
   },
   "file_extension": ".py",
   "mimetype": "text/x-python",
   "name": "python",
   "nbconvert_exporter": "python",
   "pygments_lexer": "ipython3",
   "version": "3.9.13"
  },
  "vscode": {
   "interpreter": {
    "hash": "0c4439b51d35f9272108bf59add1fd162c01386f5fe08b715fb4f15958d0f74e"
   }
  }
 },
 "nbformat": 4,
 "nbformat_minor": 4
}
